{
 "cells": [
  {
   "cell_type": "code",
   "execution_count": 1,
   "id": "faa1b543-4386-432c-88a2-e4b726f78b68",
   "metadata": {},
   "outputs": [],
   "source": [
    "import sys\n",
    "sys.path.append('../')\n",
    "from settings import *\n",
    "\n",
    "import pandas as pd\n",
    "import numpy as np\n",
    "\n",
    "data_path_net = '../data/processed/MolecularNetwork/'\n",
    "data_path_ms = '../data/processed/MS2MassBank/'"
   ]
  },
  {
   "cell_type": "code",
   "execution_count": null,
   "id": "6c72d06a-1033-43e9-87e5-a83798dc7478",
   "metadata": {},
   "outputs": [],
   "source": [
    "import csv\n",
    "import numpy as np\n",
    "from matchms import Spectrum\n",
    "spectrums_features=[]\n",
    "with open('../data/raw/sample/DDA_Pos_EF.csv', 'r', encoding='utf-8-sig') as file:\n",
    "    reader = csv.reader(file, delimiter=';')\n",
    "    for row in reader:\n",
    "        if row[0] == 'id' or not row[0]:\n",
    "            continue\n",
    "        mz_intensities = row[1].split(' ')\n",
    "        mz_values, intensity_values = zip(*[mz_intensity.split(':') for mz_intensity in mz_intensities])\n",
    "        spectrum = Spectrum(mz=np.array(list(map(float, mz_values))),\n",
    "                            intensities=np.array(list(map(float, intensity_values))),\n",
    "                            metadata={'id': row[0],\n",
    "                                      'num_peaks': len(mz_values)})\n",
    "        spectrums_features.append(spectrum)"
   ]
  },
  {
   "cell_type": "code",
   "execution_count": null,
   "id": "df1239e9-84da-4906-84fa-b35088537ef9",
   "metadata": {},
   "outputs": [],
   "source": [
    "import matchms.filtering as ms_filters\n",
    "from matchms import Spectrum\n",
    "\n",
    "def peak_processing(spectrum):\n",
    "    spectrum = ms_filters.default_filters(spectrum)\n",
    "    spectrum = ms_filters.normalize_intensities(spectrum)\n",
    "    spectrum = ms_filters.select_by_intensity(spectrum, intensity_from=0.05)\n",
    "    return spectrum\n",
    "\n",
    "def peak_transformation(spectrum):\n",
    "    spectrum = Spectrum(mz=spectrum.mz, intensities=np.sqrt(spectrum.intensities) , metadata=spectrum.metadata)\n",
    "    return spectrum\n",
    "\n",
    "spectrums_features = [peak_processing(s) for s in spectrums_features]\n",
    "spectrums_features = [peak_transformation(s) for s in spectrums_features]\n",
    "spectrums_features=[s for s in spectrums_features if len(s.peaks)>=3]"
   ]
  },
  {
   "cell_type": "code",
   "execution_count": null,
   "id": "25bb5b6f-2e2b-4e56-b005-d875055cb06d",
   "metadata": {},
   "outputs": [],
   "source": [
    "from matchms.exporting import save_as_msp\n",
    "save_as_msp(spectrums_features, data_path_ms + MSrawdata + '_sample_features.msp')"
   ]
  }
 ],
 "metadata": {
  "kernelspec": {
   "display_name": "Python 3 (ipykernel)",
   "language": "python",
   "name": "python3"
  },
  "language_info": {
   "codemirror_mode": {
    "name": "ipython",
    "version": 3
   },
   "file_extension": ".py",
   "mimetype": "text/x-python",
   "name": "python",
   "nbconvert_exporter": "python",
   "pygments_lexer": "ipython3",
   "version": "3.10.12"
  }
 },
 "nbformat": 4,
 "nbformat_minor": 5
}
