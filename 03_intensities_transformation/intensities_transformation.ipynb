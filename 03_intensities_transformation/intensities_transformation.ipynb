{
 "cells": [
  {
   "cell_type": "code",
   "execution_count": 1,
   "id": "379ab55b-cb44-4fda-ae0e-170fb231dd3e",
   "metadata": {},
   "outputs": [],
   "source": [
    "import sys\n",
    "sys.path.append('../')\n",
    "\n",
    "import pandas as pd\n",
    "import numpy as np\n",
    "\n",
    "from scripts.standarise_data import count_spectrums\n",
    "from settings import MSrawdata\n",
    "from matchms.importing import load_from_msp\n",
    "\n",
    "data_path = '../data/processed/MS2MassBank/'"
   ]
  },
  {
   "cell_type": "code",
   "execution_count": null,
   "id": "6e1bd2b4-ab3a-4a30-aae8-75025d2bc5fc",
   "metadata": {},
   "outputs": [],
   "source": [
    "print('MS dataset: ', MSrawdata)"
   ]
  },
  {
   "cell_type": "code",
   "execution_count": null,
   "id": "05c8c4af-9a64-49ff-96fb-dafcc0c0ccbe",
   "metadata": {
    "scrolled": true
   },
   "outputs": [],
   "source": [
    "spectrums=[]\n",
    "spectrums = list(load_from_msp(data_path+MSrawdata+\"_metadata_toxfilter_peak_combined.msp\"))"
   ]
  },
  {
   "cell_type": "code",
   "execution_count": 3,
   "id": "b729f5e6-4883-4b8a-be6a-a32900188558",
   "metadata": {},
   "outputs": [
    {
     "name": "stdout",
     "output_type": "stream",
     "text": [
      "Total number of spectra: 594\n",
      "Total number of unique chemicals: 594\n",
      "Average number of spectrums per unique chemical: 1.0\n"
     ]
    }
   ],
   "source": [
    "count_spectrums(spectrums)"
   ]
  },
  {
   "cell_type": "code",
   "execution_count": null,
   "id": "bb650336-b63e-4be1-a52d-77b1f0f1a561",
   "metadata": {
    "scrolled": true
   },
   "outputs": [],
   "source": [
    "import math\n",
    "import copy\n",
    "from matchms import Spectrum\n",
    "\n",
    "transformed_spectrums = []\n",
    "for spectrum in spectrums:\n",
    "    transformed_intensities = np.sqrt(spectrum.intensities)  \n",
    "    transformed_spectrum = Spectrum(mz=spectrum.mz, intensities=transformed_intensities, metadata=spectrum.metadata)\n",
    "    transformed_spectrums.append(transformed_spectrum)"
   ]
  },
  {
   "cell_type": "code",
   "execution_count": 5,
   "id": "3a97034e-de4e-4216-bf88-3ce916618508",
   "metadata": {},
   "outputs": [],
   "source": [
    "from matchms.exporting import save_as_msp\n",
    "save_as_msp(transformed_spectrums, data_path + MSrawdata + '_transformed.msp')"
   ]
  }
 ],
 "metadata": {
  "kernelspec": {
   "display_name": "Python 3 (ipykernel)",
   "language": "python",
   "name": "python3"
  },
  "language_info": {
   "codemirror_mode": {
    "name": "ipython",
    "version": 3
   },
   "file_extension": ".py",
   "mimetype": "text/x-python",
   "name": "python",
   "nbconvert_exporter": "python",
   "pygments_lexer": "ipython3",
   "version": "3.10.12"
  }
 },
 "nbformat": 4,
 "nbformat_minor": 5
}
