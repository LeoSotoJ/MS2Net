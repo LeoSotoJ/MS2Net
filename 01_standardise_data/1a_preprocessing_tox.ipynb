{
 "cells": [
  {
   "cell_type": "code",
   "execution_count": 1,
   "id": "1ec4facf-b6de-48fb-a132-e1387b686923",
   "metadata": {},
   "outputs": [],
   "source": [
    "import pandas as pd\n",
    "import numpy as np\n",
    "import os\n",
    "\n",
    "data_path = '../data/processed/tox21/'"
   ]
  },
  {
   "cell_type": "markdown",
   "id": "e55e3d26-74c2-468d-bc08-74087795201e",
   "metadata": {},
   "source": [
    "## Tox21 endpoint labels"
   ]
  },
  {
   "cell_type": "markdown",
   "id": "6f024cca-8bb9-4e10-abe5-7953e03ae5b5",
   "metadata": {},
   "source": [
    "Tox21 list. Source: Tox21 compound data in tabular format: tox21_compoundData.csv (1MB) http://bioinf.jku.at/research/DeepTox/tox21_compoundData.csv on the website http://bioinf.jku.at/research/DeepTox/tox21.html (Mayr,2016)\n"
   ]
  },
  {
   "cell_type": "code",
   "execution_count": 2,
   "id": "5ce22c6d-578c-46d4-8adb-72f541d8958d",
   "metadata": {},
   "outputs": [],
   "source": [
    "#Import dataset\n",
    "#tox21_compoundData=pd.read_csv('http://bioinf.jku.at/research/DeepTox/tox21_compoundData.csv')\n",
    "tox21_compoundData=pd.read_csv('../data/raw/tox21/tox21_compoundData.csv') #downloaded\n",
    "#Select columns\n",
    "columns_to_keep = list(tox21_compoundData.columns[1:2]) + list(tox21_compoundData.columns[-12:])\n",
    "tox21_compoundData_short = tox21_compoundData[columns_to_keep]\n",
    "#Combine by InchiKey and keep the highest value for the endpoint label\n",
    "df_combined = tox21_compoundData_short.groupby('inchikey').max().reset_index()\n",
    "#Replace NaN labels\n",
    "df_combined.replace('NaN', np.nan, inplace=True)\n",
    "#InchiKey as Index\n",
    "df_combined.set_index('inchikey', inplace=True)\n",
    "#Remove rows where all endpoints are NaN\n",
    "df_combined.dropna(how='all', inplace=True)\n",
    "#List of Inchikeys\n",
    "inchikeys_tox21=df_combined.index.tolist()\n",
    "#Create a dictionary with endpoint label\n",
    "tox_dict = df_combined.to_dict(orient='index')"
   ]
  },
  {
   "cell_type": "code",
   "execution_count": 3,
   "id": "ca57708d-608b-4565-80c6-7d57c9e1a8c5",
   "metadata": {
    "scrolled": true
   },
   "outputs": [
    {
     "name": "stdout",
     "output_type": "stream",
     "text": [
      "                             NR.AhR  NR.AR  NR.AR.LBD  NR.Aromatase  NR.ER  \\\n",
      "inchikey                                                                     \n",
      "AAALVYBICLMAMA-UHFFFAOYSA-N     0.0    0.0        0.0           1.0    0.0   \n",
      "AAEVYOVXGOFMJO-UHFFFAOYSA-N     0.0    0.0        0.0           0.0    0.0   \n",
      "AAFNEINEQRQMTF-WUUYCOTASA-N     0.0    0.0        0.0           0.0    0.0   \n",
      "AAFXQFIGKBLKMC-UHFFFAOYSA-N     0.0    0.0        0.0           0.0    0.0   \n",
      "AAIBYZBZXNWTPP-UHFFFAOYSA-N     0.0    0.0        0.0           0.0    0.0   \n",
      "AAKDPDFZMNYDLR-UHFFFAOYSA-N     0.0    0.0        0.0           0.0    0.0   \n",
      "AAKJLRGGTJKAMG-UHFFFAOYSA-N     1.0    1.0        0.0           1.0    0.0   \n",
      "AAMHBRRZYSORSH-UHFFFAOYSA-N     0.0    0.0        0.0           0.0    0.0   \n",
      "AAOVKJBEBIDNHE-UHFFFAOYSA-N     0.0    0.0        0.0           NaN    NaN   \n",
      "AAPVQEMYVNZIOO-UHFFFAOYSA-N     0.0    0.0        0.0           NaN    0.0   \n",
      "AATNZNJRDOVKDD-UHFFFAOYSA-N     0.0    0.0        0.0           0.0    0.0   \n",
      "AAXVEMMRQDVLJB-BULBTXNYSA-N     0.0    1.0        1.0           NaN    1.0   \n",
      "ABBQHOQBGMUPJH-UHFFFAOYSA-M     0.0    0.0        0.0           0.0    0.0   \n",
      "ABCSSKWSUJMJCP-WQDFMEOSSA-N     0.0    1.0        NaN           0.0    0.0   \n",
      "ABDKAPXRBAPSQN-UHFFFAOYSA-N     0.0    0.0        0.0           0.0    0.0   \n",
      "ABFDKXBSQCTIKH-UHFFFAOYSA-M     0.0    0.0        NaN           NaN    NaN   \n",
      "ABJKIHHNDMEBNA-UHFFFAOYSA-N     NaN    NaN        NaN           NaN    NaN   \n",
      "ABJKWBDEJIDSJZ-UHFFFAOYSA-N     0.0    0.0        0.0           0.0    0.0   \n",
      "ABLACSIRCKEUOB-UHFFFAOYSA-N     0.0    0.0        NaN           0.0    NaN   \n",
      "ABNDFSOIUFLJAH-UHFFFAOYSA-N     0.0    0.0        NaN           0.0    0.0   \n",
      "\n",
      "                             NR.ER.LBD  NR.PPAR.gamma  SR.ARE  SR.ATAD5  \\\n",
      "inchikey                                                                  \n",
      "AAALVYBICLMAMA-UHFFFAOYSA-N        0.0            0.0     NaN       NaN   \n",
      "AAEVYOVXGOFMJO-UHFFFAOYSA-N        0.0            0.0     0.0       0.0   \n",
      "AAFNEINEQRQMTF-WUUYCOTASA-N        0.0            0.0     0.0       0.0   \n",
      "AAFXQFIGKBLKMC-UHFFFAOYSA-N        0.0            0.0     0.0       0.0   \n",
      "AAIBYZBZXNWTPP-UHFFFAOYSA-N        0.0            0.0     0.0       0.0   \n",
      "AAKDPDFZMNYDLR-UHFFFAOYSA-N        0.0            0.0     0.0       0.0   \n",
      "AAKJLRGGTJKAMG-UHFFFAOYSA-N        0.0            NaN     1.0       0.0   \n",
      "AAMHBRRZYSORSH-UHFFFAOYSA-N        0.0            0.0     0.0       0.0   \n",
      "AAOVKJBEBIDNHE-UHFFFAOYSA-N        0.0            0.0     0.0       1.0   \n",
      "AAPVQEMYVNZIOO-UHFFFAOYSA-N        0.0            0.0     1.0       0.0   \n",
      "AATNZNJRDOVKDD-UHFFFAOYSA-N        0.0            0.0     0.0       0.0   \n",
      "AAXVEMMRQDVLJB-BULBTXNYSA-N        0.0            0.0     0.0       0.0   \n",
      "ABBQHOQBGMUPJH-UHFFFAOYSA-M        0.0            0.0     0.0       0.0   \n",
      "ABCSSKWSUJMJCP-WQDFMEOSSA-N        0.0            0.0     NaN       0.0   \n",
      "ABDKAPXRBAPSQN-UHFFFAOYSA-N        0.0            0.0     0.0       0.0   \n",
      "ABFDKXBSQCTIKH-UHFFFAOYSA-M        NaN            NaN     1.0       0.0   \n",
      "ABJKIHHNDMEBNA-UHFFFAOYSA-N        NaN            NaN     0.0       NaN   \n",
      "ABJKWBDEJIDSJZ-UHFFFAOYSA-N        0.0            0.0     0.0       0.0   \n",
      "ABLACSIRCKEUOB-UHFFFAOYSA-N        0.0            0.0     NaN       0.0   \n",
      "ABNDFSOIUFLJAH-UHFFFAOYSA-N        NaN            0.0     0.0       0.0   \n",
      "\n",
      "                             SR.HSE  SR.MMP  SR.p53  \n",
      "inchikey                                             \n",
      "AAALVYBICLMAMA-UHFFFAOYSA-N     0.0     1.0     0.0  \n",
      "AAEVYOVXGOFMJO-UHFFFAOYSA-N     0.0     0.0     0.0  \n",
      "AAFNEINEQRQMTF-WUUYCOTASA-N     0.0     0.0     0.0  \n",
      "AAFXQFIGKBLKMC-UHFFFAOYSA-N     0.0     0.0     0.0  \n",
      "AAIBYZBZXNWTPP-UHFFFAOYSA-N     0.0     0.0     0.0  \n",
      "AAKDPDFZMNYDLR-UHFFFAOYSA-N     0.0     0.0     0.0  \n",
      "AAKJLRGGTJKAMG-UHFFFAOYSA-N     0.0     NaN     0.0  \n",
      "AAMHBRRZYSORSH-UHFFFAOYSA-N     0.0     0.0     0.0  \n",
      "AAOVKJBEBIDNHE-UHFFFAOYSA-N     0.0     0.0     0.0  \n",
      "AAPVQEMYVNZIOO-UHFFFAOYSA-N     NaN     NaN     0.0  \n",
      "AATNZNJRDOVKDD-UHFFFAOYSA-N     0.0     NaN     0.0  \n",
      "AAXVEMMRQDVLJB-BULBTXNYSA-N     0.0     0.0     0.0  \n",
      "ABBQHOQBGMUPJH-UHFFFAOYSA-M     0.0     NaN     0.0  \n",
      "ABCSSKWSUJMJCP-WQDFMEOSSA-N     0.0     NaN     0.0  \n",
      "ABDKAPXRBAPSQN-UHFFFAOYSA-N     0.0     0.0     0.0  \n",
      "ABFDKXBSQCTIKH-UHFFFAOYSA-M     0.0     NaN     0.0  \n",
      "ABJKIHHNDMEBNA-UHFFFAOYSA-N     0.0     NaN     NaN  \n",
      "ABJKWBDEJIDSJZ-UHFFFAOYSA-N     0.0     NaN     0.0  \n",
      "ABLACSIRCKEUOB-UHFFFAOYSA-N     0.0     1.0     1.0  \n",
      "ABNDFSOIUFLJAH-UHFFFAOYSA-N     0.0     0.0     1.0  \n",
      "            NR.AhR        NR.AR    NR.AR.LBD  NR.Aromatase        NR.ER  \\\n",
      "count  7589.000000  8336.000000  7754.000000   6699.000000  7109.000000   \n",
      "mean      0.117275     0.038988     0.032241      0.054635     0.123224   \n",
      "std       0.321769     0.193577     0.176652      0.227283     0.328717   \n",
      "min       0.000000     0.000000     0.000000      0.000000     0.000000   \n",
      "25%       0.000000     0.000000     0.000000      0.000000     0.000000   \n",
      "50%       0.000000     0.000000     0.000000      0.000000     0.000000   \n",
      "75%       0.000000     0.000000     0.000000      0.000000     0.000000   \n",
      "max       1.000000     1.000000     1.000000      1.000000     1.000000   \n",
      "\n",
      "         NR.ER.LBD  NR.PPAR.gamma       SR.ARE     SR.ATAD5       SR.HSE  \\\n",
      "count  8016.000000    7471.000000  6742.000000  8140.000000  7486.000000   \n",
      "mean      0.048154       0.031455     0.164640     0.040541     0.054902   \n",
      "std       0.214104       0.174556     0.370882     0.197235     0.227805   \n",
      "min       0.000000       0.000000     0.000000     0.000000     0.000000   \n",
      "25%       0.000000       0.000000     0.000000     0.000000     0.000000   \n",
      "50%       0.000000       0.000000     0.000000     0.000000     0.000000   \n",
      "75%       0.000000       0.000000     0.000000     0.000000     0.000000   \n",
      "max       1.000000       1.000000     1.000000     1.000000     1.000000   \n",
      "\n",
      "            SR.MMP       SR.p53  \n",
      "count  6718.000000  7805.000000  \n",
      "mean      0.154659     0.064061  \n",
      "std       0.361606     0.244878  \n",
      "min       0.000000     0.000000  \n",
      "25%       0.000000     0.000000  \n",
      "50%       0.000000     0.000000  \n",
      "75%       0.000000     0.000000  \n",
      "max       1.000000     1.000000  \n"
     ]
    },
    {
     "data": {
      "text/plain": [
       "NR.AhR           1386\n",
       "NR.AR             639\n",
       "NR.AR.LBD        1221\n",
       "NR.Aromatase     2276\n",
       "NR.ER            1866\n",
       "NR.ER.LBD         959\n",
       "NR.PPAR.gamma    1504\n",
       "SR.ARE           2233\n",
       "SR.ATAD5          835\n",
       "SR.HSE           1489\n",
       "SR.MMP           2257\n",
       "SR.p53           1170\n",
       "dtype: int64"
      ]
     },
     "execution_count": 3,
     "metadata": {},
     "output_type": "execute_result"
    }
   ],
   "source": [
    "print(df_combined.head(20))\n",
    "print(df_combined.describe())\n",
    "df_combined.isna().sum()"
   ]
  },
  {
   "cell_type": "code",
   "execution_count": 4,
   "id": "6602f5fb-49db-4dc2-aa26-fa7a5388ef56",
   "metadata": {},
   "outputs": [],
   "source": [
    "df_combined.to_csv(data_path +'tox.csv')"
   ]
  }
 ],
 "metadata": {
  "kernelspec": {
   "display_name": "Python 3 (ipykernel)",
   "language": "python",
   "name": "python3"
  },
  "language_info": {
   "codemirror_mode": {
    "name": "ipython",
    "version": 3
   },
   "file_extension": ".py",
   "mimetype": "text/x-python",
   "name": "python",
   "nbconvert_exporter": "python",
   "pygments_lexer": "ipython3",
   "version": "3.10.12"
  }
 },
 "nbformat": 4,
 "nbformat_minor": 5
}
