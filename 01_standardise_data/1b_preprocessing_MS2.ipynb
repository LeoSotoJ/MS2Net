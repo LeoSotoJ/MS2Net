{
 "cells": [
  {
   "cell_type": "code",
   "execution_count": 6,
   "id": "ed7b9f3b-78e3-478c-b6b8-71a007dfa05c",
   "metadata": {},
   "outputs": [],
   "source": [
    "import sys\n",
    "sys.path.append('../')\n",
    "\n",
    "import pandas as pd\n",
    "import numpy as np\n",
    "\n",
    "from settings import MSrawdata\n",
    "from scripts.standarise_data import count_spectrums\n",
    "from matchms.importing import load_from_msp"
   ]
  },
  {
   "cell_type": "code",
   "execution_count": 7,
   "id": "235217c3-aac7-4a51-8bd5-9690f4a644f7",
   "metadata": {},
   "outputs": [
    {
     "name": "stdout",
     "output_type": "stream",
     "text": [
      "MS dataset:  MassBank_NIST_Feb20\n"
     ]
    }
   ],
   "source": [
    "print('MS dataset: ', MSrawdata)"
   ]
  },
  {
   "cell_type": "markdown",
   "id": "dab98167-837b-4a4d-b90b-b1a2564199b6",
   "metadata": {},
   "source": [
    "## MassBank.eu Mass Spectra"
   ]
  },
  {
   "cell_type": "markdown",
   "id": "7c369627-5f16-47c4-bf9a-c930e8c06717",
   "metadata": {},
   "source": [
    "Imported from https://github.com/MassBank/MassBank-data/releases/tag/2022.12.1 Release version 2022.12.1 | MassBank_NIST.msp 90.3 MB, Feb 20 2023.\n",
    "\n",
    "matchms v. 0.18.0 is used for processing the metadata, peaks, and spectral networking. https://github.com/matchms/matchms"
   ]
  },
  {
   "cell_type": "code",
   "execution_count": 3,
   "id": "a9ad1903-d879-431c-b54c-3f126d47e5ad",
   "metadata": {
    "scrolled": true
   },
   "outputs": [],
   "source": [
    "#To save the MassBank_NIST.msp file (90.3 MB) for the first time:\n",
    "\n",
    "#import requests\n",
    "#response = requests.get('https://github.com/MassBank/MassBank-data/releases/download/2022.12.1/MassBank_NIST.msp')\n",
    "#with open('../data/raw/MassBank/MassBank_NIST_Feb20.msp', 'wb') as f:\n",
    "#    f.write(response.content)"
   ]
  },
  {
   "cell_type": "code",
   "execution_count": null,
   "id": "64f03c79-b2b0-479a-8925-fb0900f50725",
   "metadata": {
    "scrolled": true
   },
   "outputs": [],
   "source": [
    "spectrums=[]\n",
    "spectrums = list(load_from_msp('../data/raw/MassBank/'+MSrawdata+'.msp'))"
   ]
  },
  {
   "cell_type": "code",
   "execution_count": 4,
   "id": "eb9f2171-4b55-40c2-be0c-2e14dff20f5d",
   "metadata": {},
   "outputs": [
    {
     "name": "stdout",
     "output_type": "stream",
     "text": [
      "Total number of spectra: 8957\n",
      "Total number of unique chemicals: 1541\n",
      "Average number of spectrums per unique chemical: 5.81245944192083\n"
     ]
    }
   ],
   "source": [
    "count_spectrums(spectrums)"
   ]
  },
  {
   "cell_type": "markdown",
   "id": "311721ff-ea59-42a8-9a72-d6effbd5519c",
   "metadata": {},
   "source": [
    "### Metadata Processing"
   ]
  },
  {
   "cell_type": "markdown",
   "id": "817e720e-799b-4774-8d1d-310bf3b31789",
   "metadata": {},
   "source": [
    "Repair InchiKeys from other information (e.g., SMILES)"
   ]
  },
  {
   "cell_type": "code",
   "execution_count": 5,
   "id": "841d5a9d-e897-42fe-a6b7-495f86dd04d4",
   "metadata": {},
   "outputs": [],
   "source": [
    "import matchms.filtering as ms_filters\n",
    "def metadata_processing(spectrum):\n",
    "    spectrum = ms_filters.default_filters(spectrum)\n",
    "    spectrum = ms_filters.repair_inchi_inchikey_smiles(spectrum)\n",
    "    spectrum = ms_filters.derive_inchi_from_smiles(spectrum)\n",
    "    spectrum = ms_filters.derive_smiles_from_inchi(spectrum)\n",
    "    spectrum = ms_filters.derive_inchikey_from_inchi(spectrum)\n",
    "    spectrum = ms_filters.harmonize_undefined_smiles(spectrum)\n",
    "    spectrum = ms_filters.harmonize_undefined_inchi(spectrum)\n",
    "    spectrum = ms_filters.harmonize_undefined_inchikey(spectrum)\n",
    "    spectrum = ms_filters.add_precursor_mz(spectrum)\n",
    "    return spectrum"
   ]
  },
  {
   "cell_type": "code",
   "execution_count": null,
   "id": "296b678e-c99c-4680-9eb9-552daa9471d0",
   "metadata": {
    "scrolled": true
   },
   "outputs": [],
   "source": [
    "spectrums = [metadata_processing(s) for s in spectrums]"
   ]
  },
  {
   "cell_type": "code",
   "execution_count": 6,
   "id": "efb5dc46-d755-4a02-b7a6-5278900b864d",
   "metadata": {},
   "outputs": [],
   "source": [
    "data_path = '../data/processed/MS2MassBank/' #output"
   ]
  },
  {
   "cell_type": "code",
   "execution_count": 8,
   "id": "c69ab152-2f1e-4be8-b1fe-09d4b2bc4526",
   "metadata": {},
   "outputs": [],
   "source": [
    "from matchms.exporting import save_as_msp\n",
    "save_as_msp(spectrums, data_path+MSrawdata+'_metadata.msp')"
   ]
  },
  {
   "cell_type": "code",
   "execution_count": null,
   "id": "29669e6f-de28-41c2-b25a-13f810ffaf1d",
   "metadata": {},
   "outputs": [],
   "source": [
    "#from matchms.importing import load_from_msp\n",
    "#spectrums = []\n",
    "#spectrums = list(load_from_msp(data_path+MSrawdata+'_metadata.msp'))"
   ]
  },
  {
   "cell_type": "code",
   "execution_count": 9,
   "id": "ad6dd0a8-bad4-4744-86e1-d0c6b49fdb59",
   "metadata": {},
   "outputs": [
    {
     "name": "stdout",
     "output_type": "stream",
     "text": [
      "Total number of spectra: 8957\n",
      "Total number of unique chemicals: 1541\n",
      "Average number of spectrums per unique chemical: 5.81245944192083\n"
     ]
    }
   ],
   "source": [
    "count_spectrums(spectrums)"
   ]
  },
  {
   "cell_type": "markdown",
   "id": "2b138b14-bf95-4331-b403-b95fd4659a0a",
   "metadata": {},
   "source": [
    "### Tox21 InchiKeys filter"
   ]
  },
  {
   "cell_type": "code",
   "execution_count": 10,
   "id": "e63c2460-d55c-44c7-9f7b-fff594268272",
   "metadata": {},
   "outputs": [],
   "source": [
    "tox=pd.read_csv('../data/processed/tox21/tox.csv')\n",
    "tox.set_index('inchikey', inplace=True)\n",
    "inchikeys_tox21=tox.index.tolist()"
   ]
  },
  {
   "cell_type": "code",
   "execution_count": 11,
   "id": "28c71a92-4ef9-457c-890a-fe54ea1eaa20",
   "metadata": {},
   "outputs": [],
   "source": [
    "spectrums = [s for s in spectrums \n",
    "          if s.metadata.get('inchikey') in inchikeys_tox21\n",
    "          and s.metadata.get('ionmode') == 'positive'\n",
    "          and s.metadata.get('adduct') == '[M+H]+'\n",
    "          and s.metadata.get('ms_level') == 'MS2' \n",
    "          and 'LC-ESI' in s.metadata.get('instrument_type')\n",
    "                ]"
   ]
  },
  {
   "cell_type": "code",
   "execution_count": 12,
   "id": "b70d2118-a2fe-4ea5-bd23-39b5880d5461",
   "metadata": {},
   "outputs": [
    {
     "name": "stdout",
     "output_type": "stream",
     "text": [
      "Total number of spectra: 3358\n",
      "Total number of unique chemicals: 594\n",
      "Average number of spectrums per unique chemical: 5.653198653198653\n"
     ]
    }
   ],
   "source": [
    "count_spectrums(spectrums)"
   ]
  },
  {
   "cell_type": "code",
   "execution_count": 13,
   "id": "9183514c-b507-44ed-a542-a985337e8f8b",
   "metadata": {},
   "outputs": [],
   "source": [
    "from matchms.exporting import save_as_msp\n",
    "save_as_msp(spectrums, data_path+MSrawdata+'_metadata_toxfilter.msp')"
   ]
  },
  {
   "cell_type": "markdown",
   "id": "39bb34bf-7ec1-420f-b236-a7d6cf62e628",
   "metadata": {},
   "source": [
    "### Peaks processing"
   ]
  },
  {
   "cell_type": "code",
   "execution_count": 14,
   "id": "8258c7e8-fa9d-40f3-a1dd-ac4ac95837b8",
   "metadata": {},
   "outputs": [],
   "source": [
    "import matchms.filtering as ms_filters"
   ]
  },
  {
   "cell_type": "code",
   "execution_count": 15,
   "id": "c00171c2-ea43-4f9a-8b3e-16535b55c826",
   "metadata": {},
   "outputs": [],
   "source": [
    "import matchms.filtering as ms_filters\n",
    "def peak_processing(spectrum):\n",
    "    spectrum = ms_filters.default_filters(spectrum)\n",
    "    spectrum = ms_filters.normalize_intensities(spectrum)\n",
    "    spectrum = ms_filters.select_by_intensity(spectrum, intensity_from=0.05)\n",
    "    return spectrum\n",
    "spectrums = [peak_processing(s) for s in spectrums]"
   ]
  },
  {
   "cell_type": "code",
   "execution_count": 16,
   "id": "124ee127-51cc-4297-bd82-72233c98aa8a",
   "metadata": {},
   "outputs": [],
   "source": [
    "save_as_msp(spectrums, data_path+MSrawdata+'_metadata_toxfilter_peak.msp')"
   ]
  }
 ],
 "metadata": {
  "kernelspec": {
   "display_name": "Python 3 (ipykernel)",
   "language": "python",
   "name": "python3"
  },
  "language_info": {
   "codemirror_mode": {
    "name": "ipython",
    "version": 3
   },
   "file_extension": ".py",
   "mimetype": "text/x-python",
   "name": "python",
   "nbconvert_exporter": "python",
   "pygments_lexer": "ipython3",
   "version": "3.10.12"
  }
 },
 "nbformat": 4,
 "nbformat_minor": 5
}
